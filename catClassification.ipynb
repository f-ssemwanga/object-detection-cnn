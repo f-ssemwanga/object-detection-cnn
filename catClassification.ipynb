{
 "cells": [
  {
   "cell_type": "markdown",
   "metadata": {},
   "source": [
    "### Deep Learning in practice\n",
    "\n",
    "#### In this activity I will build a simple cat neural network classifier with TensorFlow 2.0\n",
    "\n",
    "* Build a neural network that classifies cat images\n",
    "* Train the neural network\n",
    "* and finally, evaluate the accuracy of the model\n",
    "\n",
    "* **PIL** (Python Imaging Library) is the python Imaging library that adds support for opening, manipulating, and saving many different image file formats.\n",
    "* **random** implements pseudo random number generators for various distributions\n",
    "* **numpy**  for numpy array manipulation - every image must be embedded into a numpy before it can be used as input for a neural network\n",
    "* **os** operating system module and allows access to folders and files stored in the hard drive - useful for navigating the file system\n",
    "* **tensorflow.keras** tensorflow module that will be used to build our neural network model"
   ]
  },
  {
   "cell_type": "code",
   "execution_count": 9,
   "metadata": {},
   "outputs": [
    {
     "name": "stdout",
     "output_type": "stream",
     "text": [
      "2.16.1\n"
     ]
    }
   ],
   "source": [
    "#importing the required libraries\n",
    "import tensorflow  as tf \n",
    "print(tf.__version__)\n",
    "\n",
    "#import pillow\n",
    "from PIL import Image\n",
    "from random import shuffle, choice\n",
    "\n",
    "#import numpy arrays library\n",
    "import numpy as np\n",
    "\n",
    "#import os module\n",
    "import os\n",
    "#import keras and its libs\n",
    "from tensorflow.keras import datasets, layers, models\n",
    "\n",
    "#stop the execution from hanging, add this line to run training without interruption\n",
    "os.environ ['KMP_DUPLICATE_LIB_OK'] = 'True'"
   ]
  },
  {
   "cell_type": "markdown",
   "metadata": {},
   "source": [
    "### One-Hot Encoding\n",
    "\n",
    "One-hot encoding takes a string as a parameter, and creates a label to the image.  Note that the label for a cat is  the numpy array [1,0] and the label for no cat is [0,1].  This technique is very common in machine learning.  **One-hot encoding** is a process by which categorical variables from string format to numerical format i.e. are converted into a format that could be provided to an ML algorithm to do a better prediction job.\n",
    "\n",
    "*In one-hot encoding you create a vector containing all zeros except in one location*\n",
    "\n",
    "The labels in the training data need to be one-hot encoded!\n",
    "\n",
    "Think of a one-hot coded array [1,0] being the probability in this example of being or not being a cat"
   ]
  },
  {
   "cell_type": "code",
   "execution_count": 12,
   "metadata": {},
   "outputs": [],
   "source": [
    "IMAGE_SIZE = 256 # we will be resizing the images to 256x256 pixels, this is a changeable hyperparameter\n",
    "#increasing image size = longer training time but better accuracy\n",
    "def one_hot_encode(className):\n",
    "  '''One-hot encodes a given class'''\n",
    "  if className == 'cats':return np.array([1,0])\n",
    "  elif className =='nocats': return np.array([0,1])"
   ]
  },
  {
   "cell_type": "code",
   "execution_count": 13,
   "metadata": {},
   "outputs": [
    {
     "name": "stdout",
     "output_type": "stream",
     "text": [
      "cats: [1 0]\n",
      "cats: [0 1]\n"
     ]
    }
   ],
   "source": [
    "print(f'cats: {one_hot_encode('cats')}')\n",
    "print(f'cats: {one_hot_encode('nocats')}')"
   ]
  },
  {
   "cell_type": "markdown",
   "metadata": {},
   "source": [
    "#### Loading the training data\n",
    "The function **load_data** is responsible for loading the dataset.  First we set the IMAGE_DIRECTORY variable to point at the training dataset 'datasets/training_set'\n",
    "\n",
    "The training data will be loaded into the list **train_data**.  Initially the list is empty.  Then the variable directories will get the tree structure of all directories in the specified path.\n",
    "\n",
    "**os.walk()** generates the filenames in the directory tree by walking the tree either top-down or bottom-up.  For each directory in the tree rooted at directory top (including itself), it yields a 3-tuple (dirpath, dirnames, filenames)\n",
    "* root: Prints out directories only from what we have specified\n",
    "* dirs: Prints out sub-directories from the root\n",
    "* files: Prints out all files from root and directories."
   ]
  },
  {
   "cell_type": "code",
   "execution_count": 14,
   "metadata": {},
   "outputs": [],
   "source": [
    "IMAGE_DIRECTORY = 'datasets/training_set'\n",
    "def load_data (IMAGE_DIRECTORY, number_of_images = 100, shuffle_data = True):\n",
    "  '''Loads the required image data'''\n",
    "  print('loading images...')\n",
    "  train_data =[]\n",
    "  folders = next(os.walk(IMAGE_DIRECTORY))[1]\n",
    "  \n",
    "  for folder_name in folders:\n",
    "    print(f'loading {folder_name}')\n",
    "    file_names = next(os.walk(os.path.join(IMAGE_DIRECTORY, folder_name)))[2]\n",
    "    for i in range(number_of_images):\n",
    "      image_name = choice(file_names)\n",
    "      image_path=os.path.join(IMAGE_DIRECTORY, folder_name, image_name)\n",
    "      #print(image_path)\n",
    "      label = one_hot_encode(folder_name)\n",
    "      class_name =folder_name\n",
    "      if \"DS_Store\" not in  image_path:\n",
    "        img = Image.open(image_path)\n",
    "        img = img.convert('L')\n",
    "        img = img.resize((IMAGE_SIZE, IMAGE_SIZE), Image.ANTIALIAS)\n",
    "        train_data.append([np.array(img), label, class_name])\n",
    "  if(shuffle_data == True):\n",
    "    shuffle(train_data)\n",
    "  print(f'we loaded, {len(train_data)}, images in the training dataset')\n",
    "  return train_data"
   ]
  }
 ],
 "metadata": {
  "kernelspec": {
   "display_name": "base",
   "language": "python",
   "name": "python3"
  },
  "language_info": {
   "codemirror_mode": {
    "name": "ipython",
    "version": 3
   },
   "file_extension": ".py",
   "mimetype": "text/x-python",
   "name": "python",
   "nbconvert_exporter": "python",
   "pygments_lexer": "ipython3",
   "version": "3.12.1"
  }
 },
 "nbformat": 4,
 "nbformat_minor": 2
}
