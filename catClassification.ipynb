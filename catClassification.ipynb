{
 "cells": [
  {
   "cell_type": "markdown",
   "metadata": {},
   "source": [
    "### Deep Learning in practice\n",
    "\n",
    "#### In this activity I will build a simple cat neural network classifier with TensorFlow 2.0\n",
    "\n",
    "* Build a neural network that classifies cat images\n",
    "* Train the neural network\n",
    "* and finally, evaluate the accuracy of the model\n",
    "\n",
    "* **PIL** (Python Imaging Library) is the python Imaging library that adds support for opening, manipulating, and saving many different image file formats.\n",
    "* **random** implements pseudo random number generators for various distributions\n",
    "* **numpy**  for numpy array manipulation - every image must be embedded into a numpy before it can be used as input for a neural network\n",
    "* **os** operating system module and allows access to folders and files stored in the hard drive - useful for navigating the file system\n",
    "* **tensorflow.keras** tensorflow module that will be used to build our neural network model"
   ]
  },
  {
   "cell_type": "code",
   "execution_count": 9,
   "metadata": {},
   "outputs": [
    {
     "name": "stdout",
     "output_type": "stream",
     "text": [
      "2.16.1\n"
     ]
    }
   ],
   "source": [
    "#importing the required libraries\n",
    "import tensorflow  as tf \n",
    "print(tf.__version__)\n",
    "\n",
    "#import pillow\n",
    "from PIL import Image\n",
    "from random import shuffle, choice\n",
    "\n",
    "#import numpy arrays library\n",
    "import numpy as np\n",
    "\n",
    "#import os module\n",
    "import os\n",
    "#import keras and its libs\n",
    "from tensorflow.keras import datasets, layers, models\n",
    "\n",
    "#stop the execution from hanging, add this line to run training without interruption\n",
    "os.environ ['KMP_DUPLICATE_LIB_OK'] = 'True'"
   ]
  },
  {
   "cell_type": "markdown",
   "metadata": {},
   "source": [
    "### One-Hot Encoding\n",
    "\n",
    "One-hot encoding takes a string as a parameter, and creates a label to the image.  Note that the label for a cat is  the numpy array [1,0] and the label for no cat is [0,1].  This technique is very common in machine learning.  **One-hot encoding** is a process by which categorical variables from string format to numerical format i.e. are converted into a format that could be provided to an ML algorithm to do a better prediction job."
   ]
  },
  {
   "cell_type": "code",
   "execution_count": 11,
   "metadata": {},
   "outputs": [],
   "source": [
    "IMAGE_SIZE = 256 # we will be resizing the images to 256x256 pixels.\n",
    "def one_hot_encode(className):\n",
    "  '''One-hot encodes a given class'''\n",
    "  if className == 'cats':return np.array([1,0])\n",
    "  elif className =='nocats': return np.array([0,1])"
   ]
  }
 ],
 "metadata": {
  "kernelspec": {
   "display_name": "base",
   "language": "python",
   "name": "python3"
  },
  "language_info": {
   "codemirror_mode": {
    "name": "ipython",
    "version": 3
   },
   "file_extension": ".py",
   "mimetype": "text/x-python",
   "name": "python",
   "nbconvert_exporter": "python",
   "pygments_lexer": "ipython3",
   "version": "3.12.1"
  }
 },
 "nbformat": 4,
 "nbformat_minor": 2
}
