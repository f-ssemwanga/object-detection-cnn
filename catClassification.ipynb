{
 "cells": [
  {
   "cell_type": "markdown",
   "metadata": {},
   "source": [
    "### Deep Learning in practice\n",
    "\n",
    "#### In this activity I will build a simple cat neural network classifier with TensorFlow 2.0\n",
    "\n",
    "* Build a neural network that classifies cat images\n",
    "* Train the neural network\n",
    "* and finally, evaluate the accuracy of the model\n",
    "\n",
    "* **PIL** is the python Imaging library that adds support for opening, manipulating, and saving many different image file formats.\n",
    "* **random** implements pseudo random number generators for various distributions\n",
    "* **numpy**  for numpy array manipulation\n",
    "* **os** operating system module and allows access to folders and files stored in the hard drive\n",
    "* **tensorflow.keras** tensorflow module that will be used to build our neural network model"
   ]
  },
  {
   "cell_type": "code",
   "execution_count": null,
   "metadata": {},
   "outputs": [],
   "source": [
    "#importing the required libraries\n",
    "import tensorflow  as tf \n",
    "print(tf.__version__)\n",
    "\n",
    "#import pillow\n",
    "from PIL import Image\n",
    "from random import shuffle, choice\n",
    "\n",
    "#import numpy arrays library\n",
    "import numpy as np\n",
    "\n",
    "#import os module\n",
    "import os\n",
    "#import keras and its libs\n",
    "from tensorflow.keras import datasets, layers, models"
   ]
  }
 ],
 "metadata": {
  "kernelspec": {
   "display_name": "base",
   "language": "python",
   "name": "python3"
  },
  "language_info": {
   "codemirror_mode": {
    "name": "ipython",
    "version": 3
   },
   "file_extension": ".py",
   "mimetype": "text/x-python",
   "name": "python",
   "nbconvert_exporter": "python",
   "pygments_lexer": "ipython3",
   "version": "3.12.1"
  }
 },
 "nbformat": 4,
 "nbformat_minor": 2
}
